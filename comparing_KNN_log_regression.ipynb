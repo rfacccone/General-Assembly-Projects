{
 "cells": [
  {
   "cell_type": "markdown",
   "metadata": {},
   "source": [
    "# Project 3- Rosie Faccone\n",
    "\n",
    "In this project, we performed classification on the admissions data we've been working with in projects 1 and 2."
   ]
  },
  {
   "cell_type": "code",
   "execution_count": 1,
   "metadata": {
    "collapsed": false
   },
   "outputs": [],
   "source": [
    "%matplotlib inline\n",
    "import matplotlib.pyplot as plt\n",
    "import pandas as pd\n",
    "import numpy as np\n",
    "from sklearn.cross_validation import KFold\n",
    "from sklearn.linear_model import LogisticRegression\n",
    "from sklearn.grid_search import GridSearchCV\n",
    "from sklearn.neighbors import KNeighborsClassifier\n",
    "from sklearn.metrics import roc_curve, roc_auc_score"
   ]
  },
  {
   "cell_type": "markdown",
   "metadata": {},
   "source": [
    "### Load and prepare dataset"
   ]
  },
  {
   "cell_type": "code",
   "execution_count": 2,
   "metadata": {
    "collapsed": false
   },
   "outputs": [
    {
     "name": "stdout",
     "output_type": "stream",
     "text": [
      "   admit    gre   gpa  prestige\n",
      "0      0  380.0  3.61       3.0\n",
      "1      1  660.0  3.67       3.0\n",
      "2      1  800.0  4.00       1.0\n",
      "3      1  640.0  3.19       4.0\n",
      "4      0  520.0  2.93       4.0\n"
     ]
    }
   ],
   "source": [
    "# load the admissions.csv file found in ../../project-2/assets/\n",
    "df = pd.read_csv(\"../../project-2/assets/admissions.csv\")\n",
    "print df.head()"
   ]
  },
  {
   "cell_type": "code",
   "execution_count": 3,
   "metadata": {
    "collapsed": false
   },
   "outputs": [
    {
     "data": {
      "text/html": [
       "<div>\n",
       "<table border=\"1\" class=\"dataframe\">\n",
       "  <thead>\n",
       "    <tr style=\"text-align: right;\">\n",
       "      <th></th>\n",
       "      <th>admit</th>\n",
       "      <th>gre</th>\n",
       "      <th>gpa</th>\n",
       "      <th>prestige</th>\n",
       "    </tr>\n",
       "  </thead>\n",
       "  <tbody>\n",
       "    <tr>\n",
       "      <th>count</th>\n",
       "      <td>400.000000</td>\n",
       "      <td>398.000000</td>\n",
       "      <td>398.00000</td>\n",
       "      <td>399.000000</td>\n",
       "    </tr>\n",
       "    <tr>\n",
       "      <th>mean</th>\n",
       "      <td>0.317500</td>\n",
       "      <td>588.040201</td>\n",
       "      <td>3.39093</td>\n",
       "      <td>2.486216</td>\n",
       "    </tr>\n",
       "    <tr>\n",
       "      <th>std</th>\n",
       "      <td>0.466087</td>\n",
       "      <td>115.628513</td>\n",
       "      <td>0.38063</td>\n",
       "      <td>0.945333</td>\n",
       "    </tr>\n",
       "    <tr>\n",
       "      <th>min</th>\n",
       "      <td>0.000000</td>\n",
       "      <td>220.000000</td>\n",
       "      <td>2.26000</td>\n",
       "      <td>1.000000</td>\n",
       "    </tr>\n",
       "    <tr>\n",
       "      <th>25%</th>\n",
       "      <td>0.000000</td>\n",
       "      <td>520.000000</td>\n",
       "      <td>3.13000</td>\n",
       "      <td>2.000000</td>\n",
       "    </tr>\n",
       "    <tr>\n",
       "      <th>50%</th>\n",
       "      <td>0.000000</td>\n",
       "      <td>580.000000</td>\n",
       "      <td>3.39500</td>\n",
       "      <td>2.000000</td>\n",
       "    </tr>\n",
       "    <tr>\n",
       "      <th>75%</th>\n",
       "      <td>1.000000</td>\n",
       "      <td>660.000000</td>\n",
       "      <td>3.67000</td>\n",
       "      <td>3.000000</td>\n",
       "    </tr>\n",
       "    <tr>\n",
       "      <th>max</th>\n",
       "      <td>1.000000</td>\n",
       "      <td>800.000000</td>\n",
       "      <td>4.00000</td>\n",
       "      <td>4.000000</td>\n",
       "    </tr>\n",
       "  </tbody>\n",
       "</table>\n",
       "</div>"
      ],
      "text/plain": [
       "            admit         gre        gpa    prestige\n",
       "count  400.000000  398.000000  398.00000  399.000000\n",
       "mean     0.317500  588.040201    3.39093    2.486216\n",
       "std      0.466087  115.628513    0.38063    0.945333\n",
       "min      0.000000  220.000000    2.26000    1.000000\n",
       "25%      0.000000  520.000000    3.13000    2.000000\n",
       "50%      0.000000  580.000000    3.39500    2.000000\n",
       "75%      1.000000  660.000000    3.67000    3.000000\n",
       "max      1.000000  800.000000    4.00000    4.000000"
      ]
     },
     "execution_count": 3,
     "metadata": {},
     "output_type": "execute_result"
    }
   ],
   "source": [
    "# use shape and describe to see if any rows are missing values\n",
    "df.describe()\n"
   ]
  },
  {
   "cell_type": "code",
   "execution_count": 4,
   "metadata": {
    "collapsed": false
   },
   "outputs": [],
   "source": [
    "# fill in any missing values for gre or gpa with the means of those columns respectively\n",
    "df.gre.fillna(df.gre.mean(), inplace=True)\n",
    "df.gpa.fillna(df.gpa.mean(),  inplace=True)"
   ]
  },
  {
   "cell_type": "code",
   "execution_count": 5,
   "metadata": {
    "collapsed": false
   },
   "outputs": [
    {
     "data": {
      "text/plain": [
       "2.0    150\n",
       "3.0    121\n",
       "4.0     67\n",
       "1.0     61\n",
       "Name: prestige, dtype: int64"
      ]
     },
     "execution_count": 5,
     "metadata": {},
     "output_type": "execute_result"
    }
   ],
   "source": [
    "# fill in missing values for prestige with value which occurs the most\n",
    "# hint: use .value_counts()\n",
    "df.prestige.value_counts()"
   ]
  },
  {
   "cell_type": "code",
   "execution_count": 6,
   "metadata": {
    "collapsed": false
   },
   "outputs": [],
   "source": [
    "df.prestige.fillna(2.0, inplace=True)"
   ]
  },
  {
   "cell_type": "code",
   "execution_count": 7,
   "metadata": {
    "collapsed": false
   },
   "outputs": [],
   "source": [
    "# change dtpyes of gre and prestige to int and gpa to float\n",
    "df.gre = df.gre.astype(int)\n",
    "df.gpa = df.gpa.astype(float)\n",
    "df.prestige = df.prestige.astype(int)"
   ]
  },
  {
   "cell_type": "code",
   "execution_count": 8,
   "metadata": {
    "collapsed": false
   },
   "outputs": [
    {
     "data": {
      "text/html": [
       "<div>\n",
       "<table border=\"1\" class=\"dataframe\">\n",
       "  <thead>\n",
       "    <tr style=\"text-align: right;\">\n",
       "      <th></th>\n",
       "      <th>admit</th>\n",
       "      <th>gre</th>\n",
       "      <th>gpa</th>\n",
       "      <th>prestige</th>\n",
       "    </tr>\n",
       "  </thead>\n",
       "  <tbody>\n",
       "    <tr>\n",
       "      <th>count</th>\n",
       "      <td>400.000000</td>\n",
       "      <td>400.000000</td>\n",
       "      <td>400.000000</td>\n",
       "      <td>400.00000</td>\n",
       "    </tr>\n",
       "    <tr>\n",
       "      <th>mean</th>\n",
       "      <td>0.317500</td>\n",
       "      <td>588.040000</td>\n",
       "      <td>3.390930</td>\n",
       "      <td>2.48500</td>\n",
       "    </tr>\n",
       "    <tr>\n",
       "      <th>std</th>\n",
       "      <td>0.466087</td>\n",
       "      <td>115.338353</td>\n",
       "      <td>0.379675</td>\n",
       "      <td>0.94446</td>\n",
       "    </tr>\n",
       "    <tr>\n",
       "      <th>min</th>\n",
       "      <td>0.000000</td>\n",
       "      <td>220.000000</td>\n",
       "      <td>2.260000</td>\n",
       "      <td>1.00000</td>\n",
       "    </tr>\n",
       "    <tr>\n",
       "      <th>25%</th>\n",
       "      <td>0.000000</td>\n",
       "      <td>520.000000</td>\n",
       "      <td>3.130000</td>\n",
       "      <td>2.00000</td>\n",
       "    </tr>\n",
       "    <tr>\n",
       "      <th>50%</th>\n",
       "      <td>0.000000</td>\n",
       "      <td>580.000000</td>\n",
       "      <td>3.390930</td>\n",
       "      <td>2.00000</td>\n",
       "    </tr>\n",
       "    <tr>\n",
       "      <th>75%</th>\n",
       "      <td>1.000000</td>\n",
       "      <td>660.000000</td>\n",
       "      <td>3.670000</td>\n",
       "      <td>3.00000</td>\n",
       "    </tr>\n",
       "    <tr>\n",
       "      <th>max</th>\n",
       "      <td>1.000000</td>\n",
       "      <td>800.000000</td>\n",
       "      <td>4.000000</td>\n",
       "      <td>4.00000</td>\n",
       "    </tr>\n",
       "  </tbody>\n",
       "</table>\n",
       "</div>"
      ],
      "text/plain": [
       "            admit         gre         gpa   prestige\n",
       "count  400.000000  400.000000  400.000000  400.00000\n",
       "mean     0.317500  588.040000    3.390930    2.48500\n",
       "std      0.466087  115.338353    0.379675    0.94446\n",
       "min      0.000000  220.000000    2.260000    1.00000\n",
       "25%      0.000000  520.000000    3.130000    2.00000\n",
       "50%      0.000000  580.000000    3.390930    2.00000\n",
       "75%      1.000000  660.000000    3.670000    3.00000\n",
       "max      1.000000  800.000000    4.000000    4.00000"
      ]
     },
     "execution_count": 8,
     "metadata": {},
     "output_type": "execute_result"
    }
   ],
   "source": [
    "# use count again to check that you have no missing values\n",
    "df.describe()"
   ]
  },
  {
   "cell_type": "markdown",
   "metadata": {},
   "source": [
    "### Add dummy variables"
   ]
  },
  {
   "cell_type": "code",
   "execution_count": 9,
   "metadata": {
    "collapsed": false
   },
   "outputs": [
    {
     "data": {
      "text/html": [
       "<div>\n",
       "<table border=\"1\" class=\"dataframe\">\n",
       "  <thead>\n",
       "    <tr style=\"text-align: right;\">\n",
       "      <th></th>\n",
       "      <th>prestige_1</th>\n",
       "      <th>prestige_2</th>\n",
       "      <th>prestige_3</th>\n",
       "    </tr>\n",
       "  </thead>\n",
       "  <tbody>\n",
       "    <tr>\n",
       "      <th>0</th>\n",
       "      <td>0.0</td>\n",
       "      <td>0.0</td>\n",
       "      <td>1.0</td>\n",
       "    </tr>\n",
       "    <tr>\n",
       "      <th>1</th>\n",
       "      <td>0.0</td>\n",
       "      <td>0.0</td>\n",
       "      <td>1.0</td>\n",
       "    </tr>\n",
       "    <tr>\n",
       "      <th>2</th>\n",
       "      <td>1.0</td>\n",
       "      <td>0.0</td>\n",
       "      <td>0.0</td>\n",
       "    </tr>\n",
       "    <tr>\n",
       "      <th>3</th>\n",
       "      <td>0.0</td>\n",
       "      <td>0.0</td>\n",
       "      <td>0.0</td>\n",
       "    </tr>\n",
       "    <tr>\n",
       "      <th>4</th>\n",
       "      <td>0.0</td>\n",
       "      <td>0.0</td>\n",
       "      <td>0.0</td>\n",
       "    </tr>\n",
       "  </tbody>\n",
       "</table>\n",
       "</div>"
      ],
      "text/plain": [
       "   prestige_1  prestige_2  prestige_3\n",
       "0         0.0         0.0         1.0\n",
       "1         0.0         0.0         1.0\n",
       "2         1.0         0.0         0.0\n",
       "3         0.0         0.0         0.0\n",
       "4         0.0         0.0         0.0"
      ]
     },
     "execution_count": 9,
     "metadata": {},
     "output_type": "execute_result"
    }
   ],
   "source": [
    "# create and add dummy variables for prestige using the prefix 'prestige'\n",
    "# drop the prestige_4 column (Recall: why are we dropping this column?)\n",
    "dum= pd.get_dummies(df.prestige, prefix='prestige')\n",
    "dum.drop('prestige_4', axis=1, inplace=True)\n",
    "dum.head()"
   ]
  },
  {
   "cell_type": "code",
   "execution_count": 10,
   "metadata": {
    "collapsed": false
   },
   "outputs": [
    {
     "data": {
      "text/html": [
       "<div>\n",
       "<table border=\"1\" class=\"dataframe\">\n",
       "  <thead>\n",
       "    <tr style=\"text-align: right;\">\n",
       "      <th></th>\n",
       "      <th>admit</th>\n",
       "      <th>gre</th>\n",
       "      <th>gpa</th>\n",
       "      <th>prestige</th>\n",
       "      <th>prestige_1</th>\n",
       "      <th>prestige_2</th>\n",
       "      <th>prestige_3</th>\n",
       "    </tr>\n",
       "  </thead>\n",
       "  <tbody>\n",
       "    <tr>\n",
       "      <th>0</th>\n",
       "      <td>0</td>\n",
       "      <td>380</td>\n",
       "      <td>3.61</td>\n",
       "      <td>3</td>\n",
       "      <td>0.0</td>\n",
       "      <td>0.0</td>\n",
       "      <td>1.0</td>\n",
       "    </tr>\n",
       "    <tr>\n",
       "      <th>1</th>\n",
       "      <td>1</td>\n",
       "      <td>660</td>\n",
       "      <td>3.67</td>\n",
       "      <td>3</td>\n",
       "      <td>0.0</td>\n",
       "      <td>0.0</td>\n",
       "      <td>1.0</td>\n",
       "    </tr>\n",
       "    <tr>\n",
       "      <th>2</th>\n",
       "      <td>1</td>\n",
       "      <td>800</td>\n",
       "      <td>4.00</td>\n",
       "      <td>1</td>\n",
       "      <td>1.0</td>\n",
       "      <td>0.0</td>\n",
       "      <td>0.0</td>\n",
       "    </tr>\n",
       "    <tr>\n",
       "      <th>3</th>\n",
       "      <td>1</td>\n",
       "      <td>640</td>\n",
       "      <td>3.19</td>\n",
       "      <td>4</td>\n",
       "      <td>0.0</td>\n",
       "      <td>0.0</td>\n",
       "      <td>0.0</td>\n",
       "    </tr>\n",
       "    <tr>\n",
       "      <th>4</th>\n",
       "      <td>0</td>\n",
       "      <td>520</td>\n",
       "      <td>2.93</td>\n",
       "      <td>4</td>\n",
       "      <td>0.0</td>\n",
       "      <td>0.0</td>\n",
       "      <td>0.0</td>\n",
       "    </tr>\n",
       "  </tbody>\n",
       "</table>\n",
       "</div>"
      ],
      "text/plain": [
       "   admit  gre   gpa  prestige  prestige_1  prestige_2  prestige_3\n",
       "0      0  380  3.61         3         0.0         0.0         1.0\n",
       "1      1  660  3.67         3         0.0         0.0         1.0\n",
       "2      1  800  4.00         1         1.0         0.0         0.0\n",
       "3      1  640  3.19         4         0.0         0.0         0.0\n",
       "4      0  520  2.93         4         0.0         0.0         0.0"
      ]
     },
     "execution_count": 10,
     "metadata": {},
     "output_type": "execute_result"
    }
   ],
   "source": [
    "df= df.join(dum)\n",
    "df.head()"
   ]
  },
  {
   "cell_type": "markdown",
   "metadata": {},
   "source": [
    "### Classification with Logistic Regression "
   ]
  },
  {
   "cell_type": "code",
   "execution_count": 11,
   "metadata": {
    "collapsed": false
   },
   "outputs": [],
   "source": [
    "# use these features for classification\n",
    "X = df[['gre','gpa','prestige_1','prestige_2','prestige_3']]\n",
    "y=df.admit\n"
   ]
  },
  {
   "cell_type": "code",
   "execution_count": 12,
   "metadata": {
    "collapsed": false,
    "scrolled": true
   },
   "outputs": [
    {
     "name": "stdout",
     "output_type": "stream",
     "text": [
      "0.6925\n"
     ]
    }
   ],
   "source": [
    "# using k-fold cross-validation with k = 10\n",
    "# calculate mean test set accuracy of LogisticRegression using all features to predict admit\n",
    "kf = KFold(len(df), n_folds= 10, shuffle=True)\n",
    "scores=[]\n",
    "for train_idx, test_idx in kf:\n",
    "    model=LogisticRegression()\n",
    "    model.fit(X.iloc[train_idx], y.iloc[train_idx])\n",
    "    score= model.score(X.iloc[test_idx], y.iloc[test_idx])\n",
    "    scores.append(score)\n",
    "\n",
    "print np.mean(scores)   "
   ]
  },
  {
   "cell_type": "markdown",
   "metadata": {},
   "source": [
    "### Classification with KNN"
   ]
  },
  {
   "cell_type": "code",
   "execution_count": 13,
   "metadata": {
    "collapsed": false
   },
   "outputs": [
    {
     "data": {
      "text/plain": [
       "[mean: 0.65750, std: 0.08591, params: {'n_neighbors': 3},\n",
       " mean: 0.67000, std: 0.07228, params: {'n_neighbors': 5},\n",
       " mean: 0.68000, std: 0.07730, params: {'n_neighbors': 7},\n",
       " mean: 0.68500, std: 0.07176, params: {'n_neighbors': 9},\n",
       " mean: 0.67250, std: 0.08548, params: {'n_neighbors': 11},\n",
       " mean: 0.69250, std: 0.08370, params: {'n_neighbors': 13},\n",
       " mean: 0.67500, std: 0.08139, params: {'n_neighbors': 15},\n",
       " mean: 0.67500, std: 0.07984, params: {'n_neighbors': 17},\n",
       " mean: 0.66750, std: 0.08807, params: {'n_neighbors': 19},\n",
       " mean: 0.66500, std: 0.09028, params: {'n_neighbors': 21},\n",
       " mean: 0.67500, std: 0.08588, params: {'n_neighbors': 23},\n",
       " mean: 0.67750, std: 0.07862, params: {'n_neighbors': 25},\n",
       " mean: 0.67500, std: 0.08292, params: {'n_neighbors': 27},\n",
       " mean: 0.68250, std: 0.08066, params: {'n_neighbors': 29},\n",
       " mean: 0.68000, std: 0.08124, params: {'n_neighbors': 31},\n",
       " mean: 0.67750, std: 0.08548, params: {'n_neighbors': 33},\n",
       " mean: 0.67000, std: 0.07566, params: {'n_neighbors': 35},\n",
       " mean: 0.67250, std: 0.07941, params: {'n_neighbors': 37},\n",
       " mean: 0.68000, std: 0.07969, params: {'n_neighbors': 39},\n",
       " mean: 0.68000, std: 0.07969, params: {'n_neighbors': 41},\n",
       " mean: 0.67750, std: 0.08250, params: {'n_neighbors': 43},\n",
       " mean: 0.68000, std: 0.08047, params: {'n_neighbors': 45},\n",
       " mean: 0.68750, std: 0.07846, params: {'n_neighbors': 47},\n",
       " mean: 0.68250, std: 0.07910, params: {'n_neighbors': 49},\n",
       " mean: 0.68250, std: 0.07910, params: {'n_neighbors': 51},\n",
       " mean: 0.68250, std: 0.07910, params: {'n_neighbors': 53},\n",
       " mean: 0.68250, std: 0.07910, params: {'n_neighbors': 55},\n",
       " mean: 0.68250, std: 0.07910, params: {'n_neighbors': 57},\n",
       " mean: 0.68250, std: 0.07910, params: {'n_neighbors': 59},\n",
       " mean: 0.68250, std: 0.07910, params: {'n_neighbors': 61},\n",
       " mean: 0.68250, std: 0.07910, params: {'n_neighbors': 63},\n",
       " mean: 0.68250, std: 0.07910, params: {'n_neighbors': 65},\n",
       " mean: 0.68250, std: 0.07910, params: {'n_neighbors': 67},\n",
       " mean: 0.68250, std: 0.07910, params: {'n_neighbors': 69},\n",
       " mean: 0.68250, std: 0.07910, params: {'n_neighbors': 71},\n",
       " mean: 0.68250, std: 0.07910, params: {'n_neighbors': 73},\n",
       " mean: 0.68250, std: 0.07910, params: {'n_neighbors': 75},\n",
       " mean: 0.68250, std: 0.07910, params: {'n_neighbors': 77},\n",
       " mean: 0.68250, std: 0.07910, params: {'n_neighbors': 79},\n",
       " mean: 0.68250, std: 0.07910, params: {'n_neighbors': 81},\n",
       " mean: 0.68250, std: 0.07910, params: {'n_neighbors': 83},\n",
       " mean: 0.68250, std: 0.07910, params: {'n_neighbors': 85},\n",
       " mean: 0.68250, std: 0.07910, params: {'n_neighbors': 87},\n",
       " mean: 0.68250, std: 0.07910, params: {'n_neighbors': 89},\n",
       " mean: 0.68250, std: 0.07910, params: {'n_neighbors': 91},\n",
       " mean: 0.68250, std: 0.07910, params: {'n_neighbors': 93},\n",
       " mean: 0.68250, std: 0.07910, params: {'n_neighbors': 95},\n",
       " mean: 0.68250, std: 0.07910, params: {'n_neighbors': 97},\n",
       " mean: 0.68250, std: 0.07910, params: {'n_neighbors': 99}]"
      ]
     },
     "execution_count": 13,
     "metadata": {},
     "output_type": "execute_result"
    }
   ],
   "source": [
    "# use grid search to select the best fit k for k Nearest Neighbor\n",
    "# use kNN with neighbors weighted by distance (weights='distance')\n",
    "# search through a grid from k = 3 to 99 at intervals of 2\n",
    "# again use 10-fold crossvalidation\n",
    "# hint: use GridSearchCV\n",
    "\n",
    "parameter = range(3, 100, 2)\n",
    "params = {'n_neighbors': parameter }\n",
    "kf = KFold(len(df), n_folds= 10, shuffle=True)\n",
    "gs = GridSearchCV(\n",
    "    estimator=KNeighborsClassifier(),\n",
    "    param_grid=params,\n",
    "    cv=kf,\n",
    ")\n",
    "gs.fit(X, y)\n",
    "gs.grid_scores_"
   ]
  },
  {
   "cell_type": "code",
   "execution_count": 14,
   "metadata": {
    "collapsed": false
   },
   "outputs": [
    {
     "data": {
      "text/plain": [
       "{'n_neighbors': 13}"
      ]
     },
     "execution_count": 14,
     "metadata": {},
     "output_type": "execute_result"
    }
   ],
   "source": [
    "# print out best parameter setting found\n",
    "gs.best_params_"
   ]
  },
  {
   "cell_type": "code",
   "execution_count": 15,
   "metadata": {
    "collapsed": false
   },
   "outputs": [
    {
     "data": {
      "text/plain": [
       "0.6925"
      ]
     },
     "execution_count": 15,
     "metadata": {},
     "output_type": "execute_result"
    }
   ],
   "source": [
    "# print out the best score\n",
    "gs.best_score_\n"
   ]
  },
  {
   "cell_type": "markdown",
   "metadata": {},
   "source": [
    "### Compare classifiers"
   ]
  },
  {
   "cell_type": "code",
   "execution_count": 16,
   "metadata": {
    "collapsed": false
   },
   "outputs": [
    {
     "data": {
      "text/plain": [
       "KNeighborsClassifier(algorithm='auto', leaf_size=30, metric='minkowski',\n",
       "           metric_params=None, n_jobs=1, n_neighbors=13, p=2,\n",
       "           weights='uniform')"
      ]
     },
     "execution_count": 16,
     "metadata": {},
     "output_type": "execute_result"
    }
   ],
   "source": [
    "# Retrain both classifiers (logistic regression and kNN using best parameter found) on the full dataset\n",
    "lr =LogisticRegression()\n",
    "lr.fit(X, y)\n",
    "\n",
    "knn= KNeighborsClassifier(n_neighbors=13)\n",
    "knn.fit(X,y)"
   ]
  },
  {
   "cell_type": "code",
   "execution_count": 17,
   "metadata": {
    "collapsed": true
   },
   "outputs": [],
   "source": [
    "from sklearn import metrics"
   ]
  },
  {
   "cell_type": "code",
   "execution_count": 18,
   "metadata": {
    "collapsed": false
   },
   "outputs": [],
   "source": [
    "# for the entire set of observations, get the probablity of class 1 (P(y=1 | x)) for both models\n",
    "prob_lr= lr.predict_proba(X)[:,1]\n",
    "prob_knn= knn.predict_proba(X)[:,1]"
   ]
  },
  {
   "cell_type": "code",
   "execution_count": 19,
   "metadata": {
    "collapsed": false
   },
   "outputs": [
    {
     "name": "stdout",
     "output_type": "stream",
     "text": [
      "0.669608606616\n",
      "0.720097487814\n"
     ]
    }
   ],
   "source": [
    "# print AUC for both classifiers\n",
    "print metrics.roc_auc_score(y, prob_lr)\n",
    "\n",
    "print metrics.roc_auc_score(y, prob_knn)\n"
   ]
  },
  {
   "cell_type": "code",
   "execution_count": 20,
   "metadata": {
    "collapsed": false
   },
   "outputs": [
    {
     "data": {
      "image/png": "[encoded data removed]",
      "text/plain": [
       "<matplotlib.figure.Figure at 0x11481b150>"
      ]
     },
     "metadata": {},
     "output_type": "display_data"
    }
   ],
   "source": [
    "# plot a ROC curve for both classifiers on the same plot\n",
    "# does this match expectations from the AUC values?\n",
    "fpr_lr, tpr_lr, thresh_lr= roc_curve(y, prob_lr)\n",
    "fpr_knn, tpr_knn, thresh_knn= roc_curve(y, prob_knn)\n",
    "\n",
    "# add code here to plot roc curve\n",
    "plt.figure()\n",
    "ax= plt.plot(fpr_lr, tpr_lr) #blue line\n",
    "ax= plt.plot(fpr_knn, tpr_knn) #green line "
   ]
  },
  {
   "cell_type": "markdown",
   "metadata": {},
   "source": [
    "#### Why is one model performing so much better than the other?\n",
    "#### What is likely happening?\n",
    "\n",
    "Answer: When running both clasifiers on the same training data, it seems that KNN performs significantly better. This is likely due to that estimator overfitting the available data- exacerbated by the fact that we are training and testing on the same set. \n",
    "\n",
    "To get a clearer answer on which model is performing better, it would be wiser to split the data into test and train sets. \n"
   ]
  },
  {
   "cell_type": "markdown",
   "metadata": {},
   "source": [
    "## Bonus"
   ]
  },
  {
   "cell_type": "code",
   "execution_count": 21,
   "metadata": {
    "collapsed": false
   },
   "outputs": [],
   "source": [
    "# Create a train/test split of the data\n",
    "# Retrain both models using the training set\n",
    "# How do the AUC values change when only using P(y=1|x) on the test set?\n"
   ]
  },
  {
   "cell_type": "code",
   "execution_count": 22,
   "metadata": {
    "collapsed": false
   },
   "outputs": [
    {
     "data": {
      "text/html": [
       "<div>\n",
       "<table border=\"1\" class=\"dataframe\">\n",
       "  <thead>\n",
       "    <tr style=\"text-align: right;\">\n",
       "      <th></th>\n",
       "      <th>admit</th>\n",
       "      <th>gre</th>\n",
       "      <th>gpa</th>\n",
       "      <th>prestige</th>\n",
       "      <th>prestige_1</th>\n",
       "      <th>prestige_2</th>\n",
       "      <th>prestige_3</th>\n",
       "    </tr>\n",
       "  </thead>\n",
       "  <tbody>\n",
       "    <tr>\n",
       "      <th>count</th>\n",
       "      <td>400.000000</td>\n",
       "      <td>400.000000</td>\n",
       "      <td>400.000000</td>\n",
       "      <td>400.00000</td>\n",
       "      <td>400.000000</td>\n",
       "      <td>400.000000</td>\n",
       "      <td>400.000000</td>\n",
       "    </tr>\n",
       "    <tr>\n",
       "      <th>mean</th>\n",
       "      <td>0.317500</td>\n",
       "      <td>588.040000</td>\n",
       "      <td>3.390930</td>\n",
       "      <td>2.48500</td>\n",
       "      <td>0.152500</td>\n",
       "      <td>0.377500</td>\n",
       "      <td>0.302500</td>\n",
       "    </tr>\n",
       "    <tr>\n",
       "      <th>std</th>\n",
       "      <td>0.466087</td>\n",
       "      <td>115.338353</td>\n",
       "      <td>0.379675</td>\n",
       "      <td>0.94446</td>\n",
       "      <td>0.359955</td>\n",
       "      <td>0.485369</td>\n",
       "      <td>0.459916</td>\n",
       "    </tr>\n",
       "    <tr>\n",
       "      <th>min</th>\n",
       "      <td>0.000000</td>\n",
       "      <td>220.000000</td>\n",
       "      <td>2.260000</td>\n",
       "      <td>1.00000</td>\n",
       "      <td>0.000000</td>\n",
       "      <td>0.000000</td>\n",
       "      <td>0.000000</td>\n",
       "    </tr>\n",
       "    <tr>\n",
       "      <th>25%</th>\n",
       "      <td>0.000000</td>\n",
       "      <td>520.000000</td>\n",
       "      <td>3.130000</td>\n",
       "      <td>2.00000</td>\n",
       "      <td>0.000000</td>\n",
       "      <td>0.000000</td>\n",
       "      <td>0.000000</td>\n",
       "    </tr>\n",
       "    <tr>\n",
       "      <th>50%</th>\n",
       "      <td>0.000000</td>\n",
       "      <td>580.000000</td>\n",
       "      <td>3.390930</td>\n",
       "      <td>2.00000</td>\n",
       "      <td>0.000000</td>\n",
       "      <td>0.000000</td>\n",
       "      <td>0.000000</td>\n",
       "    </tr>\n",
       "    <tr>\n",
       "      <th>75%</th>\n",
       "      <td>1.000000</td>\n",
       "      <td>660.000000</td>\n",
       "      <td>3.670000</td>\n",
       "      <td>3.00000</td>\n",
       "      <td>0.000000</td>\n",
       "      <td>1.000000</td>\n",
       "      <td>1.000000</td>\n",
       "    </tr>\n",
       "    <tr>\n",
       "      <th>max</th>\n",
       "      <td>1.000000</td>\n",
       "      <td>800.000000</td>\n",
       "      <td>4.000000</td>\n",
       "      <td>4.00000</td>\n",
       "      <td>1.000000</td>\n",
       "      <td>1.000000</td>\n",
       "      <td>1.000000</td>\n",
       "    </tr>\n",
       "  </tbody>\n",
       "</table>\n",
       "</div>"
      ],
      "text/plain": [
       "            admit         gre         gpa   prestige  prestige_1  prestige_2  \\\n",
       "count  400.000000  400.000000  400.000000  400.00000  400.000000  400.000000   \n",
       "mean     0.317500  588.040000    3.390930    2.48500    0.152500    0.377500   \n",
       "std      0.466087  115.338353    0.379675    0.94446    0.359955    0.485369   \n",
       "min      0.000000  220.000000    2.260000    1.00000    0.000000    0.000000   \n",
       "25%      0.000000  520.000000    3.130000    2.00000    0.000000    0.000000   \n",
       "50%      0.000000  580.000000    3.390930    2.00000    0.000000    0.000000   \n",
       "75%      1.000000  660.000000    3.670000    3.00000    0.000000    1.000000   \n",
       "max      1.000000  800.000000    4.000000    4.00000    1.000000    1.000000   \n",
       "\n",
       "       prestige_3  \n",
       "count  400.000000  \n",
       "mean     0.302500  \n",
       "std      0.459916  \n",
       "min      0.000000  \n",
       "25%      0.000000  \n",
       "50%      0.000000  \n",
       "75%      1.000000  \n",
       "max      1.000000  "
      ]
     },
     "execution_count": 22,
     "metadata": {},
     "output_type": "execute_result"
    }
   ],
   "source": [
    "df.describe()"
   ]
  },
  {
   "cell_type": "code",
   "execution_count": 23,
   "metadata": {
    "collapsed": true
   },
   "outputs": [],
   "source": [
    "train=df[:300]\n",
    "test= df[300:]"
   ]
  },
  {
   "cell_type": "code",
   "execution_count": 24,
   "metadata": {
    "collapsed": false
   },
   "outputs": [],
   "source": [
    "X_train = train[['gre','gpa','prestige_1','prestige_2','prestige_3']]\n",
    "y_train = train.admit\n",
    "X_test= test[['gre','gpa','prestige_1','prestige_2','prestige_3']]\n",
    "y_test= test.admit"
   ]
  },
  {
   "cell_type": "code",
   "execution_count": 25,
   "metadata": {
    "collapsed": false
   },
   "outputs": [
    {
     "data": {
      "text/plain": [
       "KNeighborsClassifier(algorithm='auto', leaf_size=30, metric='minkowski',\n",
       "           metric_params=None, n_jobs=1, n_neighbors=13, p=2,\n",
       "           weights='uniform')"
      ]
     },
     "execution_count": 25,
     "metadata": {},
     "output_type": "execute_result"
    }
   ],
   "source": [
    "# Retrain both classifiers (logistic regression and kNN using best parameter found) on the full dataset\n",
    "lr =LogisticRegression()\n",
    "lr.fit(X_train, y_train)\n",
    "\n",
    "knn= KNeighborsClassifier(n_neighbors=13)\n",
    "knn.fit(X_train,y_train)"
   ]
  },
  {
   "cell_type": "code",
   "execution_count": 26,
   "metadata": {
    "collapsed": true
   },
   "outputs": [],
   "source": [
    "prob_lr= lr.predict_proba(X_test)[:,1]\n",
    "prob_knn= knn.predict_proba(X_test)[:,1]"
   ]
  },
  {
   "cell_type": "code",
   "execution_count": 27,
   "metadata": {
    "collapsed": false
   },
   "outputs": [
    {
     "name": "stdout",
     "output_type": "stream",
     "text": [
      "0.573626373626\n",
      "0.567032967033\n"
     ]
    }
   ],
   "source": [
    "# print AUC for both classifiers\n",
    "print metrics.roc_auc_score(y_test, prob_lr)\n",
    "\n",
    "print metrics.roc_auc_score(y_test, prob_knn)\n"
   ]
  },
  {
   "cell_type": "code",
   "execution_count": 28,
   "metadata": {
    "collapsed": false
   },
   "outputs": [
    {
     "data": {
      "image/png": "[encoded data removed]",
      "text/plain": [
       "<matplotlib.figure.Figure at 0x114e750d0>"
      ]
     },
     "metadata": {},
     "output_type": "display_data"
    }
   ],
   "source": [
    "fpr_lr, tpr_lr, thresh_lr= roc_curve(y_test, prob_lr)\n",
    "fpr_knn, tpr_knn, thresh_knn= roc_curve(y_test, prob_knn)\n",
    "\n",
    "# add code here to plot roc curve\n",
    "plt.figure()\n",
    "ax=  plt.plot(fpr_lr, tpr_lr) #blue line\n",
    "ax= plt.plot(fpr_knn, tpr_knn) #green line "
   ]
  },
  {
   "cell_type": "markdown",
   "metadata": {},
   "source": [
    "This time it seems the logistical regression model is working slightly better. This time, the AUC scores for the two models are much less distant from eachother than they were earlier when we testing on our training data set. This indicates we may have gotten rid of the overfitting, or whatever else may have been going on earlier. \n",
    "\n",
    "\n",
    "We are still seeing the same chatacteristics of having\n",
    "a jagged line for the logistic regression ROC line, and a much smoother one for the KNN ROC plot. \n"
   ]
  }
 ],
 "metadata": {
  "kernelspec": {
   "display_name": "Python 2",
   "language": "python",
   "name": "python2"
  },
  "language_info": {
   "codemirror_mode": {
    "name": "ipython",
    "version": 2
   },
   "file_extension": ".py",
   "mimetype": "text/x-python",
   "name": "python",
   "nbconvert_exporter": "python",
   "pygments_lexer": "ipython2",
   "version": "2.7.11"
  }
 },
 "nbformat": 4,
 "nbformat_minor": 0
}
